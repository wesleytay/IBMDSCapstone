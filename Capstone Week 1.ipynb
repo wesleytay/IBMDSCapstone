{
  "nbformat": 4,
  "nbformat_minor": 0,
  "metadata": {
    "colab": {
      "name": "Untitled1.ipynb",
      "provenance": [],
      "authorship_tag": "ABX9TyPws78HAswP8mJIk6Z68zcK"
    },
    "kernelspec": {
      "name": "python3",
      "display_name": "Python 3"
    }
  },
  "cells": [
    {
      "cell_type": "markdown",
      "metadata": {
        "id": "bRMohfEFrgnq"
      },
      "source": [
        "## 1) Write some markdown to explain that this notebook will be mainly used for the capstone project.\r\n",
        "\r\n",
        "This notebook is being created in fulfillment of the requirements for the IBM Data Science Capstone module."
      ]
    },
    {
      "cell_type": "markdown",
      "metadata": {
        "id": "IEE2_cPDsyJy"
      },
      "source": [
        "## 2) Import the pandas library as pd."
      ]
    },
    {
      "cell_type": "code",
      "metadata": {
        "id": "dPiGYeKmrSS1"
      },
      "source": [
        "import pandas as pd"
      ],
      "execution_count": 1,
      "outputs": []
    },
    {
      "cell_type": "markdown",
      "metadata": {
        "id": "5EeQ6u4Nsxmh"
      },
      "source": [
        "## 3) Import the Numpy library as np."
      ]
    },
    {
      "cell_type": "code",
      "metadata": {
        "id": "42OBMXT-rVLv"
      },
      "source": [
        "import numpy as np"
      ],
      "execution_count": 2,
      "outputs": []
    },
    {
      "cell_type": "markdown",
      "metadata": {
        "id": "bdzToaKZsxDt"
      },
      "source": [
        "##  4) Print the following the statement: Hello Capstone Prokect Course!"
      ]
    },
    {
      "cell_type": "code",
      "metadata": {
        "colab": {
          "base_uri": "https://localhost:8080/"
        },
        "id": "8679ntbXrXV1",
        "outputId": "828066b5-4fd3-4712-ab5c-ac32efa0f854"
      },
      "source": [
        "print(\"Hello Capstone Project Course!\")"
      ],
      "execution_count": 3,
      "outputs": [
        {
          "output_type": "stream",
          "text": [
            "Hello Capstone Project Course!\n"
          ],
          "name": "stdout"
        }
      ]
    }
  ]
}